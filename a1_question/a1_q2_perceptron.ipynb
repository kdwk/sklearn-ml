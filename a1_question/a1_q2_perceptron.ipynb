{
 "cells": [
  {
   "cell_type": "markdown",
   "id": "75eb9fe0",
   "metadata": {},
   "source": [
    "# COMP3314 Assignment1-Q2: Perceptron Boolean Operators (15 Points)"
   ]
  },
  {
   "cell_type": "markdown",
   "id": "fd2a4cc0",
   "metadata": {},
   "source": [
    "In this question, we will build on question Q1-2 and implement boolean logic operators using perceptrons. We will implement the following operators:  `NOT`, `AND`, `OR`, `NAND`, `NOR`.\n",
    "\n",
    "The results of the perceptron should match the results in Q1-2. In this question, we use 0 to represent `False` and 1 to represent `True`.\n",
    "\n",
    "Your tasks:\n",
    "\n",
    "1. Implement `AND`, `OR`, `NAND`, `NOR` operators with perceptrons. The `NOT` operator is already implemented for you as a reference. Note that other operators requires two inputs `(x1, x2)`, but the `NOT` operator only requires one input `(x1)`. \n",
    "2. Run the perceptron model with the following inputs: `[(0, 0), (0, 1), (1, 0), (1, 1)]`. You should print the outputs and match them with the results in Q1-2.\n",
    "3. Implement `XOR` using the combination of the above perceptrons."
   ]
  },
  {
   "cell_type": "markdown",
   "id": "ae1b5bd6",
   "metadata": {},
   "source": [
    "## 1. `NOT` Operator"
   ]
  },
  {
   "cell_type": "code",
   "execution_count": 1,
   "id": "875d409e",
   "metadata": {
    "ExecuteTime": {
     "end_time": "2022-10-27T18:31:57.329409Z",
     "start_time": "2022-10-27T18:31:57.325283Z"
    }
   },
   "outputs": [
    {
     "name": "stdout",
     "output_type": "stream",
     "text": [
      "NOT(0) = 1\n",
      "NOT(1) = 0\n"
     ]
    }
   ],
   "source": [
    "class PerceptronNOT:\n",
    "\n",
    "    def __init__(self) -> None:\n",
    "        self.w0 = 0.5\n",
    "        self.w1 = -1\n",
    "\n",
    "    def __call__(self, x: int) -> int:\n",
    "        return self.forward(x)\n",
    "\n",
    "    def decision_function(self, z: float) -> int:\n",
    "        return 1 if z >= 0 else 0\n",
    "\n",
    "    def forward(self, x1: int) -> int:\n",
    "        z = self.w0 + self.w1 * x1\n",
    "        phi_z = self.decision_function(z)\n",
    "        return phi_z\n",
    "\n",
    "\n",
    "NOT = PerceptronNOT()\n",
    "for x1 in [0, 1]:\n",
    "    print(f\"NOT({x1}) = {NOT(x1)}\")"
   ]
  },
  {
   "cell_type": "markdown",
   "id": "d9464635",
   "metadata": {},
   "source": [
    "## 2. `AND` Operator (3 points)"
   ]
  },
  {
   "cell_type": "code",
   "execution_count": 2,
   "id": "d7819474",
   "metadata": {
    "ExecuteTime": {
     "end_time": "2022-10-27T18:31:57.340736Z",
     "start_time": "2022-10-27T18:31:57.330190Z"
    }
   },
   "outputs": [
    {
     "name": "stdout",
     "output_type": "stream",
     "text": [
      "AND((0, 0)) = 0\n",
      "AND((0, 1)) = 0\n",
      "AND((1, 0)) = 0\n",
      "AND((1, 1)) = 1\n"
     ]
    }
   ],
   "source": [
    "class PerceptronAND:\n",
    "    def __init__(self) -> None:\n",
    "        self.w0 = -2\n",
    "        self.w1 = 1\n",
    "        self.w2 = 1\n",
    "\n",
    "    def __call__(self, x1: float, x2: float) -> int:\n",
    "        return self.forward(x1, x2)\n",
    "    \n",
    "    def decision_function(self, z: float) -> int:\n",
    "        return 1 if z >= 0 else 0\n",
    "    \n",
    "    def forward(self, x1: int, x2: int) -> int:\n",
    "        z = self.w0 + self.w1 * x1 + self.w2 * x2\n",
    "        y_hat = self.decision_function(z)\n",
    "        return y_hat\n",
    "\n",
    "AND = PerceptronAND()\n",
    "for x1, x2 in [(0, 0), (0, 1), (1, 0), (1, 1)]:\n",
    "    print(f\"AND({x1, x2}) = {AND(x1, x2)}\")"
   ]
  },
  {
   "cell_type": "markdown",
   "id": "bf1c124c",
   "metadata": {},
   "source": [
    "## 3. `OR` Operator (3 points)"
   ]
  },
  {
   "cell_type": "code",
   "execution_count": 3,
   "id": "1475e475",
   "metadata": {
    "ExecuteTime": {
     "end_time": "2022-10-27T18:31:57.344089Z",
     "start_time": "2022-10-27T18:31:57.341551Z"
    }
   },
   "outputs": [
    {
     "name": "stdout",
     "output_type": "stream",
     "text": [
      "OR((0, 0)) = 0\n",
      "OR((0, 1)) = 1\n",
      "OR((1, 0)) = 1\n",
      "OR((1, 1)) = 1\n"
     ]
    }
   ],
   "source": [
    "class PerceptronOR:\n",
    "    def __init__(self) -> None:\n",
    "        self.w0 = -1\n",
    "        self.w1 = 1\n",
    "        self.w2 = 1\n",
    "\n",
    "    def __call__(self, x1: float, x2: float) -> int:\n",
    "        return self.forward(x1, x2)\n",
    "    \n",
    "    def decision_function(self, z: float) -> int:\n",
    "        return 1 if z >= 0 else 0\n",
    "    \n",
    "    def forward(self, x1: int, x2: int) -> float:\n",
    "        z = self.w0 + self.w1 * x1 + self.w2 * x2\n",
    "        y_hat = self.decision_function(z)\n",
    "        return y_hat\n",
    "\n",
    "OR = PerceptronOR()\n",
    "for x1, x2 in [(0, 0), (0, 1), (1, 0), (1, 1)]:\n",
    "    print(f\"OR({x1, x2}) = {OR(x1, x2)}\")"
   ]
  },
  {
   "cell_type": "markdown",
   "id": "b1cc85f1",
   "metadata": {},
   "source": [
    "## 4. `NAND` Operator (3 points)"
   ]
  },
  {
   "cell_type": "code",
   "execution_count": 4,
   "id": "ce1b3b91",
   "metadata": {
    "ExecuteTime": {
     "end_time": "2022-10-27T18:31:57.347303Z",
     "start_time": "2022-10-27T18:31:57.345083Z"
    }
   },
   "outputs": [
    {
     "name": "stdout",
     "output_type": "stream",
     "text": [
      "NAND((0, 0)) = 1\n",
      "NAND((0, 1)) = 1\n",
      "NAND((1, 0)) = 1\n",
      "NAND((1, 1)) = 0\n"
     ]
    }
   ],
   "source": [
    "class PerceptronNAND:\n",
    "    def __init__(self) -> None:\n",
    "        self.w0 = 1\n",
    "        self.w1 = -1\n",
    "        self.w2 = -1\n",
    "\n",
    "    def __call__(self, x1: int, x2: int) -> int:\n",
    "        return self.forward(x1, x2)\n",
    "    \n",
    "    def decision_function(self, z: float) -> int:\n",
    "        return 1 if z >= 0 else 0\n",
    "    \n",
    "    def forward(self, x1: int, x2: int) -> int:\n",
    "        z = self.w0 + self.w1 * x1 + self.w2 * x2\n",
    "        y_hat = self.decision_function(z)\n",
    "        return y_hat\n",
    "\n",
    "NAND = PerceptronNAND()\n",
    "for x1, x2 in [(0, 0), (0, 1), (1, 0), (1, 1)]:\n",
    "    print(f\"NAND({x1, x2}) = {NAND(x1, x2)}\")"
   ]
  },
  {
   "cell_type": "markdown",
   "id": "06d7a2af",
   "metadata": {},
   "source": [
    "## 5. `NOR` Operator (3 points)"
   ]
  },
  {
   "cell_type": "code",
   "execution_count": 5,
   "id": "5be34b2a",
   "metadata": {
    "ExecuteTime": {
     "end_time": "2022-10-27T18:31:57.350338Z",
     "start_time": "2022-10-27T18:31:57.348021Z"
    }
   },
   "outputs": [
    {
     "name": "stdout",
     "output_type": "stream",
     "text": [
      "NOR((0, 0)) = 1\n",
      "NOR((0, 1)) = 0\n",
      "NOR((1, 0)) = 0\n",
      "NOR((1, 1)) = 0\n"
     ]
    }
   ],
   "source": [
    "class PerceptronNOR:\n",
    "    def __init__(self) -> None:\n",
    "        self.w0 = 0\n",
    "        self.w1 = -1\n",
    "        self.w2 = -1\n",
    "\n",
    "    def __call__(self, x1: int, x2: int) -> int:\n",
    "        return self.forward(x1, x2)\n",
    "    \n",
    "    def decision_function(self, z: float) -> int:\n",
    "        return 1 if z >= 0 else 0\n",
    "    \n",
    "    def forward(self, x1: int, x2: int) -> int:\n",
    "        z = self.w0 + self.w1 * x1 + self.w2 * x2\n",
    "        y_hat = self.decision_function(z)\n",
    "        return y_hat\n",
    "\n",
    "NOR = PerceptronNOR()\n",
    "for x1, x2 in [(0, 0), (0, 1), (1, 0), (1, 1)]:\n",
    "    print(f\"NOR({x1, x2}) = {NOR(x1, x2)}\")"
   ]
  },
  {
   "cell_type": "markdown",
   "id": "3a341107",
   "metadata": {},
   "source": [
    "## 6.  `XOR` Operator (3 points)\n",
    "1. Implement the XOR Operator with the combinations of the operators above.\n",
    "2. Could a single layer Perceptron conduct `XOR`? Explain your answer."
   ]
  },
  {
   "cell_type": "markdown",
   "id": "ea2573e2",
   "metadata": {},
   "source": [
    "![All possible inputs for XOR](/Q2-6allPossibleInputs.png)\n",
    "\n",
    "In the above image are all possible inputs for XOR -- (0,0), (0,1), (1,0), (1,1). Inputs (0,1) and (1,0) result in 1 while others result in 0. As can be seen in the image, there does not exist a straight line to correctly separate the inputs into class 1 and class 0. This problem is not linearly separable, and thus cannot be learned by a single perceptron."
   ]
  },
  {
   "cell_type": "code",
   "execution_count": 6,
   "id": "2d080c7b",
   "metadata": {},
   "outputs": [
    {
     "name": "stdout",
     "output_type": "stream",
     "text": [
      "XOR((0, 0)) = 0\n",
      "XOR((0, 1)) = 1\n",
      "XOR((1, 0)) = 1\n",
      "XOR((1, 1)) = 0\n"
     ]
    }
   ],
   "source": [
    "for x1, x2 in [(0, 0), (0, 1), (1, 0), (1, 1)]:\n",
    "    print(f\"XOR({x1, x2}) = {(AND(OR(x1,x2), NAND(x1,x2)))}\")"
   ]
  }
 ],
 "metadata": {
  "kernelspec": {
   "display_name": "Python 3 (ipykernel)",
   "language": "python",
   "name": "python3"
  },
  "language_info": {
   "codemirror_mode": {
    "name": "ipython",
    "version": 3
   },
   "file_extension": ".py",
   "mimetype": "text/x-python",
   "name": "python",
   "nbconvert_exporter": "python",
   "pygments_lexer": "ipython3",
   "version": "3.11.7"
  },
  "vscode": {
   "interpreter": {
    "hash": "49c48b447b9efd9c07d32c0dec9df5e0c02b4225e51c3003920687e790460610"
   }
  }
 },
 "nbformat": 4,
 "nbformat_minor": 5
}
