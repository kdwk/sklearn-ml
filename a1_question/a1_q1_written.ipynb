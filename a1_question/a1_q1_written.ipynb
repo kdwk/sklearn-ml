{
 "cells": [
  {
   "cell_type": "markdown",
   "metadata": {},
   "source": [
    "# COMP3314 Assignment1-Q1: Written Questions (50 Points)\n",
    "\n",
    "Solve the following questions by hand. No need to implement any code. \n",
    "\n",
    "You should use Markdown to write texts and LaTex to write math equations. See this [documentation](https://jupyter-notebook.readthedocs.io/en/stable/examples/Notebook/Working%20With%20Markdown%20Cells.html) on how to use Markdown and LaTex in Jupyter Notebook."
   ]
  },
  {
   "cell_type": "markdown",
   "metadata": {},
   "source": [
    "## Q1-1: Perceptron Basics (5 points)\n",
    "\n",
    "### Question\n",
    "\n",
    "Consider a Perceptron with 2 inputs and 1 output. Let the weights of the Perceptron be $w_1 = 1$ and $w_2 = 2$ and let the bias be $w_0 = -2.5$. Calculate the output of the following inputs: $(0, 0), (1, 0), (0, 1), (1, 1), (1,2)$."
   ]
  },
  {
   "cell_type": "markdown",
   "metadata": {},
   "source": [
    "**Answer (5 points in total, with 1 point for each input)**\n",
    "\n",
    "1. -1\n",
    "2. -1\n",
    "3. -1\n",
    "4. 1\n",
    "5. 1"
   ]
  },
  {
   "cell_type": "markdown",
   "metadata": {},
   "source": [
    "## Q1-2: Boolean Operators (5 points)\n",
    "\n",
    "### Question\n",
    "\n",
    "In this question, we will review boolean operations. Assume the inputs 2-dimensional binary values of 0 (false) and 1 (true). For example, input $(x_1, x_2)$ can only have the following values: $(0, 0), (0, 1), (1, 0), (1, 1). Complete the following truth tables for `NOT`, `AND`, `OR`, `NAND`, `NOR`. \n",
    "\n",
    "You will use these truth tables in Q2, where you will implement perceptrons to compute these boolean operations."
   ]
  },
  {
   "cell_type": "markdown",
   "metadata": {},
   "source": [
    "### Answer\n",
    "\n",
    "`NOT`: (example table) \n",
    "| $x_1$ | output |\n",
    "| ----- | ------ |\n",
    "| 0     | 1      |\n",
    "| 1     | 0      |\n",
    "\n",
    "`AND`:\n",
    "| $x_1$ | $x_2$ | output |\n",
    "| ----- | ----- | ------ |\n",
    "| 0     | 0     | 0      |\n",
    "| 0     | 1     | 0      |\n",
    "| 1     | 0     | 0      |\n",
    "| 1     | 1     | 1      |\n",
    "\n",
    "`OR`:\n",
    "| $x_1$ | $x_2$ | output |\n",
    "| ----- | ----- | ------ |\n",
    "| 0     | 0     | 0      |\n",
    "| 0     | 1     | 1      |\n",
    "| 1     | 0     | 1      |\n",
    "| 1     | 1     | 1      |\n",
    "\n",
    "`NAND`:\n",
    "| $x_1$ | $x_2$  | output |\n",
    "| ----- | ------ | ------ |\n",
    "| 0     | 0      | 1      |\n",
    "| 0     | 1      | 1      |\n",
    "| 1     | 0      | 1      |\n",
    "| 1     | 1      | 0      |\n",
    "\n",
    "`NOR`:\n",
    "| $x_1$ | $x_2$ | output |\n",
    "| ----- | ----- | ------ |\n",
    "| 0     | 0     | 1      |\n",
    "| 0     | 1     | 0      |\n",
    "| 1     | 0     | 0      |\n",
    "| 1     | 1     | 0      |"
   ]
  },
  {
   "cell_type": "markdown",
   "metadata": {},
   "source": [
    "## Q1-3: Parity Check (10 points)\n",
    "\n",
    "### Question\n",
    "\n",
    "The parity problem returns 1 if the number of inputs that are 1 is even, and 0 otherwise. Can a perceptron learn this problem for 3 inputs? Is this a linear problem?"
   ]
  },
  {
   "cell_type": "markdown",
   "metadata": {
    "id": "0AUwbFEaMiWi"
   },
   "source": [
    "**Answer (10 points in total)**\n",
    "\n",
    "![All possible inputs for this problem](/allPossibleInputs.png)\n",
    "\n",
    "In the above image, the three axes represent input features x, y, z respectively. For example, if an input set (1, 0, 1) is provided, it is represented by a dot at (1, 0, 1). The dots in the above image represent all possible inputs for this problem -- (0,0,0), (1,0,0), (0,1,0), (0,0,1), (1,1,0), (1,0,1), (0,1,1), (111). As can be seen in the image, the dots with 0 or 2 inputs with value 1 (i.e. even number of inputs are 1, coloured red) and the dots with 1 or 3 inputs with value 1 (i.e. odd number of inputs are 1, coloured blue) are not separable with a linear 2D plane. It is not a linear problem. Therefore, it does not fit the perceptron learning requirement that in a problem of dimension n (n=3), there must exist a separator of n-1 (2) dimension that can separate the input into 2 distinct classes. A perceptron cannot learn this problem"
   ]
  },
  {
   "cell_type": "markdown",
   "metadata": {},
   "source": [
    "## Q1-4: Perceptron (30 points)"
   ]
  },
  {
   "cell_type": "markdown",
   "metadata": {},
   "source": [
    "### Question\n",
    "Consider the perceptron algorithm and the following sequence of samples:\n",
    "\n",
    "$ x^{(1)} = (-2, 4), \\; x^{(2)} = (2, -4), \\; x^{(3)} = (-4, -2) $\n",
    "\n",
    "$ y^{(1)} = -1, \\; y^{(2)} = 1, \\; y^{(3)} = 1 $\n",
    "\n",
    "\n",
    "- We initialize all weights with 1 and all bias with 0.\n",
    "- We set the learning rate $\\eta = 1$.\n",
    "- We use $w_0$ to denote the bias term, and $w_1, w_2$ to denote the weights.\n",
    "- Reminder of the update rule: $w_j:=w_j+\\Delta w_j$, where $\\Delta w_j=\\eta\\left(y^{(i)}-\\hat{y}^{(i)}\\right) x_j^{(i)}$ if  $j>0 $. $\\Delta w_0=\\eta\\left(y^{(i)}-\\hat{y}^{(i)}\\right)$\n",
    "\n",
    "- Reminder of the decision function: $\\phi(z) = 1$ if $z >= 0$, and $\\phi(z) = -1$ otherwise.\n",
    "\n",
    "Answer the following three questions, and you need to provide the necessary formulas, steps, and analysis."
   ]
  },
  {
   "cell_type": "markdown",
   "metadata": {},
   "source": [
    "#### Q1-4-1  (5 points)\n",
    "Is this dataset linearly separable? \n",
    "\n",
    "\n",
    "\n",
    "\n"
   ]
  },
  {
   "cell_type": "markdown",
   "metadata": {},
   "source": [
    "**Answer (5 points in total)**\n",
    "\n",
    "There are three inputs with two inputs of class 1 and one input of class -1. Each input has 2 features so the inputs can be mapped on a 2D plane. According to simple rules of 2D geometry, unless the three points are colinear (which they are not in this case), there must exist a straight line that can separate the single input of class -1 from the other 2. Therefore, this dataset is linearly separable."
   ]
  },
  {
   "cell_type": "markdown",
   "metadata": {},
   "source": [
    "#### Q1-4-2  (5 points)\n",
    "After initializing the parameters and without training, what is the prediction accuracy on the training set? Write down your calculation steps."
   ]
  },
  {
   "cell_type": "markdown",
   "metadata": {},
   "source": [
    "**Answer (5 points in total)**\n",
    "\n",
    "$ z_1 = w_1x_1 + w_2x_2 = -2 + 4 = 2, \\; 2>=0 \\; so \\; \\hat{y} = 1 $\n",
    "\n",
    "$ z_2 = -2, -2<0 \\; so \\; \\hat{y} = -1 $\n",
    "  \n",
    "$ z_3 = -6, -6<0 \\; so \\; \\hat{y} = -1 $\n",
    "\n",
    "None of the predicted classes are correct so \n",
    "\n",
    "$ Accuracy = \\frac{no.\\;of\\;correct\\;predictions}{no.\\;of\\;predictions} = 0 $"
   ]
  },
  {
   "cell_type": "markdown",
   "metadata": {},
   "source": [
    "#### Q1-4-3 (20 points)\n",
    "After training for one epoch (seeing each training sample exactly once sequentially), what is the prediction accuracy on the training set? Write down your calculation steps."
   ]
  },
  {
   "cell_type": "markdown",
   "metadata": {},
   "source": [
    "**Answer (20 points in total)**\n",
    "\n",
    "$ After\\;seeing\\;first\\;sample, $\n",
    "\n",
    "$ error = actual-predicted = -1-1 = -2 $\n",
    "\n",
    "$ w_0 := w_0+\\Delta{w_0} = 0+(1)(-2) = -2 $\n",
    "\n",
    "$ w_1 := w_1+\\Delta{w_1} = 1+(1)(-2)(-2) = 5 $\n",
    "\n",
    "$ w_2 := w_2+\\Delta{w_2} = 1+(1)(-2)(4) = -7 $\n",
    "\n",
    "$ After\\;seeing\\;second\\;sample, $\n",
    "\n",
    "$ error = actual-predicted = 1-(-1) = 2 $\n",
    "\n",
    "$ w_0 := w_0+\\Delta{w_0} = -2+(1)(2) = 0 $\n",
    "\n",
    "$ w_1 := w_1+\\Delta{w_1} = 5+(1)(2)(2) = 9 $\n",
    "\n",
    "$ w_2 := w_2+\\Delta{w_2} = 7+(1)(2)(-4) = -1 $\n",
    "\n",
    "$ After\\;seeing\\;third\\;sample, $\n",
    "\n",
    "$ error = actual-predicted = 1-(-1) = 2 $\n",
    "\n",
    "$ w_0 := w_0+\\Delta{w_0} = 0+(1)(2) = 2 $\n",
    "\n",
    "$ w_1 := w_1+\\Delta{w_1} = 9+(1)(2)(-4) = 1 $\n",
    "\n",
    "$ w_2 := w_2+\\Delta{w_2} = -1+(1)(2)(-2) = -5 $\n",
    "\n",
    "$ New\\;predictions: $\n",
    "\n",
    "$ z_1 = w_0 + w_1x_1 + w_2x_2 = 2 - 2 - 20 = -20, \\; -20<0 \\; so \\; \\hat{y} = -1 $\n",
    "\n",
    "$ z_2 = 2 + 2 + 20 = 24, 24>=0 \\; so \\; \\hat{y} = 1 $\n",
    "  \n",
    "$ z_3 = 2 - 4 + 10, 8 >= 0 \\; so \\; \\hat{y} = 1 $\n",
    "\n",
    "All predictions are correct so\n",
    "\n",
    "$ Accuracy = \\frac{no.\\;of\\;correct\\;predictions}{no.\\;of\\;predictions} = 1 $"
   ]
  }
 ],
 "metadata": {
  "kernelspec": {
   "display_name": "Python 3 (ipykernel)",
   "language": "python",
   "name": "python3"
  },
  "language_info": {
   "codemirror_mode": {
    "name": "ipython",
    "version": 3
   },
   "file_extension": ".py",
   "mimetype": "text/x-python",
   "name": "python",
   "nbconvert_exporter": "python",
   "pygments_lexer": "ipython3",
   "version": "3.11.7"
  },
  "vscode": {
   "interpreter": {
    "hash": "d17123b7a852ae6f995cf965aca53bbdb6bda840a01f47f622e12eaae1166d96"
   }
  }
 },
 "nbformat": 4,
 "nbformat_minor": 4
}
