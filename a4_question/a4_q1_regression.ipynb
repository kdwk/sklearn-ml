{
 "cells": [
  {
   "cell_type": "markdown",
   "id": "20aaa641-372f-4c05-a526-9e995e550654",
   "metadata": {},
   "source": [
    " # COMP3314 - Assignment 4 Question 1: Regression (30 Points)"
   ]
  },
  {
   "cell_type": "markdown",
   "id": "73048d4c-30da-47b2-b001-e213f025bb1b",
   "metadata": {},
   "source": [
    "A small business has been tracking its yearly profits and the number of advertisement spots purchased each year for the past four years. They are interested in understanding how their advertising efforts affect their annual profits using simple linear regression.\n",
    "\n",
    "The data collected from 2020 to 2023 is as follows:\n",
    "\n",
    "| Year | Advertisement Cost ($x_i$)  | Annual Profit ($y_i$) |\n",
    "|------|-----------------------------|-----------------------|\n",
    "| 2020 | 20                          | 60                    |\n",
    "| 2021 | 40                          | 65                    |\n",
    "| 2022 | 60                          | 75                    |\n",
    "| 2023 | 80                          | 85                    |\n"
   ]
  },
  {
   "cell_type": "markdown",
   "id": "c92197b5-feab-4e6f-815f-a260acc60122",
   "metadata": {},
   "source": [
    "## Q1-1 (5 points)\n",
    "\n",
    "For the regression model, the predicted value $\\hat{y}_i$ is calculated as:\n",
    "$$\n",
    "\\hat{y}_i=w_0+w_1 x_i\n",
    "$$\n",
    "where:\n",
    "- $w_0$ is the intercept of the regression line,\n",
    "- $w_1$ is the slope of the regression line,\n",
    "- $x_i$ is the number of advertisement spots in the i-th data point.\n",
    "\n",
    "Write down the formula for computing the sum of squared errors (SSE) between the predicted values and the actual values for the given data points. We denote the actual value as $y_i$ and the predicted value as $\\hat{y}_i$, and the SSE is denoted as $S$."
   ]
  },
  {
   "cell_type": "markdown",
   "id": "9a6d1563",
   "metadata": {},
   "source": [
    "Your solution here:\n",
    "\n",
    "$S=\\frac{1}{2}\\sum_{i=1}^{n}(y_i - \\hat{y}_i)^2$"
   ]
  },
  {
   "cell_type": "markdown",
   "id": "46071802",
   "metadata": {},
   "source": [
    "## Q1-2 (5 points)\n",
    "\n",
    "Compute the partial derivatives of the sum of $S$ with respect to the intercept $w_0$ and the slope $w_1$, denoted as $\\frac{\\partial S}{\\partial w_0}$ and $\\frac{\\partial S}{\\partial w_1}$, respectively."
   ]
  },
  {
   "cell_type": "markdown",
   "id": "fec9d6af",
   "metadata": {},
   "source": [
    "Your solution here:\n",
    "\n",
    "$\\frac{\\partial{}S}{\\partial{}w_0} = \\frac{\\partial{}}{\\partial{}w_0} \\frac{1}{2}\\sum_{i=1}^{n} (y_i-w_0-w_1x_i)^2 $\n",
    "\n",
    "$\\frac{\\partial{}S}{\\partial{}w_0} = \\sum_{i=1}^{n} (y_i-w_0-w_1x_i) \\frac{\\partial{}}{\\partial{}w_0} (y_i-w_0-w_1x_i) $\n",
    "\n",
    "$\\frac{\\partial{}S}{\\partial{}w_0} = \\sum_{i=1}^{n} (y_i-w_0-w_1x_i) (-1) $\n",
    "\n",
    "$\\frac{\\partial{}S}{\\partial{}w_0} = \\sum_{i=1}^{n} (-y_i+w_0+w_1x_i) $\n",
    "\n",
    "$\\frac{\\partial{}S}{\\partial{}w_1} = \\frac{\\partial{}}{\\partial{}w_1} \\frac{1}{2}\\sum_{i=1}^{n} (y_i-w_0-w_1x_i)^2 $\n",
    "\n",
    "$\\frac{\\partial{}S}{\\partial{}w_1} = \\sum_{i=1}^{n} (y_i-w_0-w_1x_i) \\frac{\\partial{}}{\\partial{}w_1} (y_i-w_0-w_1x_i) $\n",
    "\n",
    "$\\frac{\\partial{}S}{\\partial{}w_1} = \\sum_{i=1}^{n} (y_i-w_0-w_1x_i) (-x_i) $\n",
    "\n",
    "$\\frac{\\partial{}S}{\\partial{}w_1} = \\sum_{i=1}^{n} (-x_iy_i+w_0x_i+w_1x_i^2) $"
   ]
  },
  {
   "cell_type": "markdown",
   "id": "de847c0a",
   "metadata": {},
   "source": [
    "## Q1-3 (10 points)\n",
    "\n",
    "Given the data points, compute the optimal values of $w_0$ and $w_1$ that minimize the sum of squared errors $S$. You shall first set the partial derivatives to zero, i.e., $\\frac{\\partial S}{\\partial w_0}=0$ and $\\frac{\\partial S}{\\partial w_1}=0$, and then solve the equations to find the optimal values of $w_0$ and $w_1$."
   ]
  },
  {
   "cell_type": "markdown",
   "id": "bcb2be67",
   "metadata": {},
   "source": [
    "Your solution here:\n",
    "\n",
    "$\\frac{\\partial{}S}{\\partial{}w_0} = 0 $\n",
    "\n",
    "$\\sum_{i=1}^{n} (-y_i+w_0+w_1x_i) = 0 $\n",
    "\n",
    "$\\frac{\\partial{}}{\\partial{}w_0} \\frac{1}{2}\\sum_{i=1}^{n} (y_i-w_0-w_1x_i)^2 = 0$\n",
    "\n",
    "$\\sum_{i=1}^{n} (-x_iy_i+w_0x_i+w_1x_i^2) = 0$\n",
    "\n",
    "$ -y_i+w_0+w_1x_i = -x_iy_i+w_0x_i+w_1x_i^2 $\n",
    "\n",
    "$ -60+w_0+20w_1 = -20*60+20w_0+40w_1 — ①$\n",
    "\n",
    "$ -65+w_0+40w_1 = -40*65+40w_0+160w_1 — ②$\n",
    "\n",
    "$ w_0 = 53.8 $\n",
    "\n",
    "$ w_1 = 3.1875 $"
   ]
  },
  {
   "cell_type": "markdown",
   "id": "ff793a08",
   "metadata": {},
   "source": [
    "## Q1-4 (5 points)\n",
    "\n",
    "The company plans to spend 100 on advertisement spots in year 2024. Using the regression model, what is the predicted profit for the company in 2024?"
   ]
  },
  {
   "cell_type": "markdown",
   "id": "56f9d4a7",
   "metadata": {},
   "source": [
    "Your solution here:\n",
    "\n",
    "\n",
    "$\\hat{y}_i=w_0+w_1 x_i$\n",
    "\n",
    "$\\hat{y}_{2024} = 53.8+3.1875*100$\n",
    "\n",
    "$\\hat{y}_{2024} = 372.55$\n"
   ]
  },
  {
   "cell_type": "markdown",
   "id": "648f4c52",
   "metadata": {},
   "source": [
    "## Q1-5 (5 points)\n",
    "\n",
    "Write a Python code with sklearn to perform linear regression on the given data points and predict the profit for the company in 2024. Print out the optimal values of $w_0$ and $w_1$ and the predicted profit for 2024 and compare the results with the manual calculation."
   ]
  },
  {
   "cell_type": "markdown",
   "id": "da24d36c-9ef4-4391-9f0d-8fd14de30875",
   "metadata": {},
   "source": [
    "Your solution here:"
   ]
  },
  {
   "cell_type": "code",
   "execution_count": 5,
   "id": "0f7002f1",
   "metadata": {},
   "outputs": [
    {
     "name": "stdout",
     "output_type": "stream",
     "text": [
      "Predicted profit (2024): 92.5, w0: 50.0, w1: 0.425\n"
     ]
    }
   ],
   "source": [
    "from sklearn.linear_model import LinearRegression\n",
    "from numpy import ndarray\n",
    "import numpy as np\n",
    "\n",
    "X_train: ndarray = np.asarray([20, 40, 60, 80]).reshape((-1, 1))\n",
    "y_train: ndarray = np.asarray([60, 65, 75, 85]).reshape((-1, 1))\n",
    "\n",
    "regressor: LinearRegression = LinearRegression().fit(X_train, y_train)\n",
    "\n",
    "X_test: ndarray = np.asarray([100]).reshape((-1, 1))\n",
    "\n",
    "print(f\"Predicted profit (2024): {regressor.predict(X_test)[0][0]}, w0: {regressor.intercept_[0]}, w1: {regressor.coef_[0][0]}\")"
   ]
  }
 ],
 "metadata": {
  "kernelspec": {
   "display_name": "Python 3 (ipykernel)",
   "language": "python",
   "name": "python3"
  },
  "language_info": {
   "codemirror_mode": {
    "name": "ipython",
    "version": 3
   },
   "file_extension": ".py",
   "mimetype": "text/x-python",
   "name": "python",
   "nbconvert_exporter": "python",
   "pygments_lexer": "ipython3",
   "version": "3.11.7"
  }
 },
 "nbformat": 4,
 "nbformat_minor": 5
}
